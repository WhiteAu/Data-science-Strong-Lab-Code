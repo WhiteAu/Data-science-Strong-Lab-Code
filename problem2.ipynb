{
 "cells": [
  {
   "cell_type": "code",
   "execution_count": null,
   "metadata": {
    "collapsed": true
   },
   "outputs": [],
   "source": [
    "import pandas as pd\n",
    "import os\n",
    "from tkinter import filedialog\n",
    "from tkinter import *"
   ]
  },
  {
   "cell_type": "code",
   "execution_count": null,
   "metadata": {
    "collapsed": true
   },
   "outputs": [],
   "source": [
    "#Used to set up and open the file path.\n",
    "def openfiles():\n",
    "    root = Tk()\n",
    "    files = filedialog.askopenfilenames(parent=root, title='Select a file and click open')\n",
    "    filepath = root.tk.splitlist(files)\n",
    "    return filepath"
   ]
  },
  {
   "cell_type": "code",
   "execution_count": null,
   "metadata": {
    "collapsed": true
   },
   "outputs": [],
   "source": [
    "def combinedlist(pattern, datalen, exportfile, sequenceColumn, addColumn):\n",
    "    #calling the first function\n",
    "    filegroup = openfiles()\n",
    "    matchlist = []\n",
    "    #Reading in the chosen csv file, selecting necessary columns, and adding it to a list\n",
    "    for file in filegroup:\n",
    "        new_df = pd.read_csv(file)\n",
    "        new_df[\"File Name 1\"] = os.path.split(file)[1]\n",
    "        new_df = new_df[[\"File Name 1\", sequenceColumn, addColumn]]\n",
    "        matchlist.append(new_df)\n",
    "    #Return peptide sequences that doesn't match the regex pattern\n",
    "    for df1 in matchlist:\n",
    "        df1 = df1.loc[0:datalen]\n",
    "    final_df = df1[~df1.Sequence.str.contains(pattern)]\n",
    "    final_df.to_csv(exportfile, encoding='utf-8', index=False)\n",
    "    return final_df"
   ]
  },
  {
   "cell_type": "code",
   "execution_count": null,
   "metadata": {},
   "outputs": [],
   "source": [
    "#(regex pattern, number of rows with data minus 2, name of the peptide sequence column, name of the protein group accessions column)\n",
    "#pattern for HLA-A11 is r'\\b.[VIFY][MLFYIA]\\w+[LIYVF].[KR]\\b'\n",
    "#pattern for HLA-A24 is r'\\b.[YF]\\w+[LFI]\\b'\n",
    "combinedlist(r'\\b.[VIFY][MLFYIA]\\w+[LIYVF].[KR]\\b', 2565, \"C:/Users/Sujatha/Desktop/example 2.csv\", \"Sequence\", \"Protein Group Accessions\")"
   ]
  },
  {
   "cell_type": "code",
   "execution_count": null,
   "metadata": {
    "collapsed": true
   },
   "outputs": [],
   "source": []
  }
 ],
 "metadata": {
  "kernelspec": {
   "display_name": "Python 3",
   "language": "python",
   "name": "python3"
  },
  "language_info": {
   "codemirror_mode": {
    "name": "ipython",
    "version": 3
   },
   "file_extension": ".py",
   "mimetype": "text/x-python",
   "name": "python",
   "nbconvert_exporter": "python",
   "pygments_lexer": "ipython3",
   "version": "3.6.1"
  }
 },
 "nbformat": 4,
 "nbformat_minor": 2
}
