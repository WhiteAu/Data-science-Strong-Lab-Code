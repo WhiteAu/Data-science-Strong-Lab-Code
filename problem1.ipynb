{
 "cells": [
  {
   "cell_type": "code",
   "execution_count": null,
   "metadata": {
    "collapsed": true
   },
   "outputs": [],
   "source": [
    "import pandas as pd\n",
    "import os"
   ]
  },
  {
   "cell_type": "code",
   "execution_count": null,
   "metadata": {
    "collapsed": true
   },
   "outputs": [],
   "source": [
    "def csv_files(folderpath):\n",
    "    filelist = []\n",
    "    directory = os.fsencode(folderpath)\n",
    "    os.chdir(directory)\n",
    "    #Adding all the csv files from a folder into a list\n",
    "    for file in os.listdir(directory):\n",
    "        filename = os.fsdecode(file)\n",
    "        if filename.endswith(\".csv\"):\n",
    "            filelist.append(filename)\n",
    "    return filelist"
   ]
  },
  {
   "cell_type": "code",
   "execution_count": null,
   "metadata": {
    "collapsed": true
   },
   "outputs": [],
   "source": [
    "def matchlist(folderpath, exportfile, sequenceColumn, addColumn):\n",
    "    #calling the first function\n",
    "    filelist = csv_files(folderpath)\n",
    "    new_df = []\n",
    "    #Reads in the content of the csv files from the list and adds the content into a new list.\n",
    "    for file in filelist:\n",
    "        df1 = pd.read_csv(file)\n",
    "        new_df.append(df1)\n",
    "    #Merging the dataframes together and adding the occurences of each peptide.\n",
    "    final_df = pd.concat(new_df).groupby([sequenceColumn,addColumn])\\\n",
    "            .agg({sequenceColumn:'size'})\\\n",
    "            .rename(columns={sequenceColumn:'Occurence'})\\\n",
    "            .reset_index()\\\n",
    "            .sort_values(by=['Occurence',addColumn], ascending=[False,True])\n",
    "    #Exporting the final dataframe back into a csv file.\n",
    "    final_df.to_csv(exportfile, encoding='utf-8', index=False)\n",
    "    return final_df"
   ]
  },
  {
   "cell_type": "code",
   "execution_count": null,
   "metadata": {},
   "outputs": [],
   "source": [
    "#(folder path, output file path, name of the peptide sequence column, name of the protein group accessions column)\n",
    "matchlist(\"C:/Users/Sujatha/Desktop/HLA_A11\", \"C:/Users/Sujatha/Desktop/example 2.csv\", \"Sequence\", \"Protein Group Accessions\")"
   ]
  }
 ],
 "metadata": {
  "kernelspec": {
   "display_name": "Python 3",
   "language": "python",
   "name": "python3"
  },
  "language_info": {
   "codemirror_mode": {
    "name": "ipython",
    "version": 3
   },
   "file_extension": ".py",
   "mimetype": "text/x-python",
   "name": "python",
   "nbconvert_exporter": "python",
   "pygments_lexer": "ipython3",
   "version": "3.6.1"
  },
  "widgets": {
   "application/vnd.jupyter.widget-state+json": {
    "state": {},
    "version_major": 1.0,
    "version_minor": 0.0
   }
  }
 },
 "nbformat": 4,
 "nbformat_minor": 2
}
