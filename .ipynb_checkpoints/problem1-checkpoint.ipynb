{
 "cells": [
  {
   "cell_type": "code",
   "execution_count": 1,
   "metadata": {
    "collapsed": true
   },
   "outputs": [],
   "source": [
    "import configparser\n",
    "import logging\n",
    "import os\n",
    "\n",
    "from utilities.execution_modes import ExecutionType\n",
    "import utilities.fileutils as fileutils"
   ]
  },
  {
   "cell_type": "code",
   "execution_count": 2,
   "metadata": {
    "collapsed": false
   },
   "outputs": [
    {
     "data": {
      "text/plain": [
       "['config']"
      ]
     },
     "execution_count": 2,
     "metadata": {},
     "output_type": "execute_result"
    }
   ],
   "source": [
    "config = configparser.ConfigParser()\n",
    "configFilePath = 'config'\n",
    "config.read(configFilePath)\n"
   ]
  },
  {
   "cell_type": "markdown",
   "metadata": {},
   "source": [
    "#We are setting the below to read a default directory from the config file located in the same dir as this jupyter notebook\n",
    "#If you want to change that directory, you can either change the assignment like the commented out code below, or change the directory in the config file\n"
   ]
  },
  {
   "cell_type": "code",
   "execution_count": 3,
   "metadata": {
    "collapsed": false
   },
   "outputs": [
    {
     "name": "stdout",
     "output_type": "stream",
     "text": [
      "input directory is: C:\\Users\\whiteau\\Documents\\GitHub\\Data-science-Strong-Lab-Code\\input\n",
      "output directory is: C:\\Users\\whiteau\\Documents\\GitHub\\Data-science-Strong-Lab-Code\\output\n"
     ]
    }
   ],
   "source": [
    "#input directory\n",
    "file_directory = config['DEFAULT']['input']\n",
    "#output directory\n",
    "output_path = config['DEFAULT']['output']\n",
    "\n",
    "print(\"input directory is: {}\\noutput directory is: {}\".format(file_directory, output_path))"
   ]
  },
  {
   "cell_type": "markdown",
   "metadata": {},
   "source": [
    "#We are setting the below to set what the 'Sequence' column is, as well as what the "
   ]
  },
  {
   "cell_type": "code",
   "execution_count": 4,
   "metadata": {
    "collapsed": false
   },
   "outputs": [
    {
     "name": "stdout",
     "output_type": "stream",
     "text": [
      "sequence column name is : \"Sequence\"\n"
     ]
    }
   ],
   "source": [
    "sequence_column_name = config[\"DATA DESCRIPTOR\"][\"sequenceColumn\"]\n",
    "\n",
    "print(\"sequence column name is : \\\"{}\\\"\".format(sequence_column_name))"
   ]
  },
  {
   "cell_type": "markdown",
   "metadata": {},
   "source": []
  },
  {
   "cell_type": "code",
   "execution_count": 5,
   "metadata": {
    "collapsed": false
   },
   "outputs": [
    {
     "name": "stdout",
     "output_type": "stream",
     "text": [
      "   Sequence  Occurrence  kf_test.csv  kf_test_2.csv  kf_test_3.csv\n",
      "0  LMEHIHKL           3          1.0            1.0            1.0\n",
      "1  VYPFPGPI           2          1.0            1.0            0.0\n",
      "      Sequence  Occurrence  kf_test.csv  kf_test_2.csv\n",
      "0    AIQDKLFQV           1          1.0            0.0\n",
      "1    AIVDKVPSV           1          1.0            0.0\n",
      "2    ALAAALAHI           1          1.0            0.0\n",
      "3    ALAELLHGA           1          1.0            0.0\n",
      "4    ALASVIKEL           1          1.0            0.0\n",
      "5    ALATLIHQV           1          1.0            0.0\n",
      "6    ALDEKLLNI           1          1.0            0.0\n",
      "7    ALDEVFTKV           1          1.0            0.0\n",
      "8    ALDEYNMKI           1          1.0            0.0\n",
      "9    ALFEGKVQL           1          1.0            0.0\n",
      "10   ALIEKLVEL           1          1.0            0.0\n",
      "11   ALITRIFGV           1          1.0            0.0\n",
      "12   ALLDKLYAL           1          1.0            0.0\n",
      "13   ALLDWVTSV           1          1.0            0.0\n",
      "14   ALLELLERL           1          1.0            0.0\n",
      "15   ALLELLHEL           1          1.0            0.0\n",
      "16   ALLGGLVNV           1          1.0            0.0\n",
      "17   ALLSEVIQL           1          1.0            0.0\n",
      "18   ALLSGLREA           1          1.0            0.0\n",
      "19   ALMDEVVKA           1          1.0            0.0\n",
      "20   ALMEAIHSA           1          1.0            0.0\n",
      "21   ALMPVLNQV           1          1.0            0.0\n",
      "22   ALSSLIHAL           1          1.0            0.0\n",
      "23   ALWERIEGV           1          1.0            0.0\n",
      "24   ALWGFFPVL           1          1.0            0.0\n",
      "25   AMIELVERL           1          1.0            0.0\n",
      "26   AMSSKFFLV           1          1.0            0.0\n",
      "27   AMWEHPITA           1          1.0            0.0\n",
      "28   AVVEFLTSV           1          1.0            0.0\n",
      "29   FIFEKILQL           1          1.0            0.0\n",
      "..         ...         ...          ...            ...\n",
      "245  YGLPVVVKL           1          1.0            0.0\n",
      "246  YIFEEPFTI           1          1.0            0.0\n",
      "247  YILGKFFAL           1          1.0            0.0\n",
      "248  YLADIFTKL           1          1.0            0.0\n",
      "249  YLDEIVKEV           1          1.0            0.0\n",
      "250  YLDFTNPKV           1          1.0            0.0\n",
      "251  YLDLDKITV           1          1.0            0.0\n",
      "252  YLDLSENRL           1          1.0            0.0\n",
      "253  YLDPAQRGV           1          1.0            0.0\n",
      "254  YLDTINRSV           1          1.0            0.0\n",
      "255  YLDWTIERV           1          1.0            0.0\n",
      "256  YLHDFLKYL           1          1.0            0.0\n",
      "257  YLHNQGIGV           1          1.0            0.0\n",
      "258  YLIPLLERL           1          1.0            0.0\n",
      "259  YLITLLEHL           1          1.0            0.0\n",
      "260  YLLDLHSYL           1          1.0            0.0\n",
      "261  YLLPAIVHI           1          1.0            0.0\n",
      "262  YLMEVTHDL           1          1.0            0.0\n",
      "263  YLMGFLHAV           1          1.0            0.0\n",
      "264  YLNVQVKEL           1          1.0            0.0\n",
      "265  YLSGIAHFL           1          1.0            0.0\n",
      "266  YMAELIERL           1          1.0            0.0\n",
      "267  YMGQSIHQV           1          1.0            0.0\n",
      "268  YMIAHITGL           1          1.0            0.0\n",
      "269  YMLDLQKQL           1          1.0            0.0\n",
      "270  YQYPVIIHL           1          1.0            0.0\n",
      "271  YTWEEVFRV           1          1.0            0.0\n",
      "272  YVTDVLYRV           1          1.0            0.0\n",
      "273  YmAELIERL           1          1.0            0.0\n",
      "274  YmLDLQKQL           1          1.0            0.0\n",
      "\n",
      "[275 rows x 4 columns]\n",
      "       Sequence  Occurrence  kf_test.csv\n",
      "0    AKDIGFIKLD           1            1\n",
      "1    ALAEIAKAEL           1            1\n",
      "2    ALAELFGLLV           1            1\n",
      "3    ALDELASLQV           1            1\n",
      "4    ALFDFLLIEA           1            1\n",
      "5    ALIDYTLEFL           1            1\n",
      "6    ALIEGVGILL           1            1\n",
      "7    ALISTVLTEA           1            1\n",
      "8    ALLNAILHSA           1            1\n",
      "9    ALLSLDPAAV           1            1\n",
      "10   ALSDLALHFL           1            1\n",
      "11   ALVDHLNVGV           1            1\n",
      "12   ALYFFPILTV           1            1\n",
      "13   FIFEKKLAQA           1            1\n",
      "14   FLAEDALNTV           1            1\n",
      "15   FLAEEGFYKF           1            1\n",
      "16   FLAERLYAEV           1            1\n",
      "17   FLDDGNQMLL           1            1\n",
      "18   FLDPNTLERL           1            1\n",
      "19   FLFDKPVSPL           1            1\n",
      "20   FLFGEEPSKL           1            1\n",
      "21   FLGENISNFL           1            1\n",
      "22   FLIDDKGYTL           1            1\n",
      "23   FLIEEQKIVV           1            1\n",
      "24   FLLDESLESL           1            1\n",
      "25   FLLDGFPRTV           1            1\n",
      "26   FLLDISETDL           1            1\n",
      "27   FLLGFIPAKA           1            1\n",
      "28   FLLGSWLEQA           1            1\n",
      "29   FLLPTGLSSL           1            1\n",
      "..          ...         ...          ...\n",
      "96   TIFAGTLITA           1            1\n",
      "97   TLAEIAKVEL           1            1\n",
      "98   TLLEVGQIAV           1            1\n",
      "99   TLMNLGGLAV           1            1\n",
      "100  TLWEIAKAEV           1            1\n",
      "101  TLWLKGLTQA           1            1\n",
      "102  VLFEGRTVQL           1            1\n",
      "103  VLIGEFLEKV           1            1\n",
      "104  VLLNEILEQV           1            1\n",
      "105  VLMQDSRLYL           1            1\n",
      "106  VLWDRTFSLF           1            1\n",
      "107  VLWGEKIFYL           1            1\n",
      "108  VVPPFLQPEV           1            1\n",
      "109  VYPFPGPIPN           1            1\n",
      "110  YAYDGKDYIA           1            1\n",
      "111  YIYDKDMEII           1            1\n",
      "112  YLARIQGFQV           1            1\n",
      "113  YLDIKGLLDV           1            1\n",
      "114  YLDLFGDPSV           1            1\n",
      "115  YLDPSVLSGV           1            1\n",
      "116  YLDQGTQIFL           1            1\n",
      "117  YLFSEALNAA           1            1\n",
      "118  YLGLLENVRV           1            1\n",
      "119  YLLDYPNNLL           1            1\n",
      "120  YLLQEPPRTV           1            1\n",
      "121  YLLTHPPPIM           1            1\n",
      "122  YLMEGSYNKV           1            1\n",
      "123  YLPNQLFRTF           1            1\n",
      "124  YLTNEGIQYL           1            1\n",
      "125  YLYGQTTTYL           1            1\n",
      "\n",
      "[126 rows x 3 columns]\n",
      "        Sequence  Occurrence  kf_test.csv\n",
      "0    AFVAYPEALTL           1            1\n",
      "1    ALADFLPVMKL           1            1\n",
      "2    ALDSGASLLHL           1            1\n",
      "3    ALFEESGLIRI           1            1\n",
      "4    ALGFYPAEITL           1            1\n",
      "5    ALLAGSEYLKL           1            1\n",
      "6    ALLEADVNIKL           1            1\n",
      "7    ALLEMFPEITV           1            1\n",
      "8    ALNEEAGRLLL           1            1\n",
      "9    AMASLGALALL           1            1\n",
      "10   DPFNPFELTNH           1            1\n",
      "11   FAIDPHLLLSV           1            1\n",
      "12   FIIDNPQDLKV           1            1\n",
      "13   FLADPSAFVAA           1            1\n",
      "14   FLASESLIKQI           1            1\n",
      "15   FLDELEDEAKA           1            1\n",
      "16   FLDESRSTQYM           1            1\n",
      "17   FLDESRSTQYm           1            1\n",
      "18   FLEFVEDFIQV           1            1\n",
      "19   FLFDGSPTYVL           1            1\n",
      "20   FLFDIPKILDL           1            1\n",
      "21   FLFDKPVSPLL           1            1\n",
      "22   FLGDDVFLREL           1            1\n",
      "23   FLILPDMLKNA           1            1\n",
      "24   FLLDGNFLQSL           1            1\n",
      "25   FLLDPYKYMTL           1            1\n",
      "26   FLLEQEKTQAL           1            1\n",
      "27   FLPDPSALQNL           1            1\n",
      "28   FLPPPPPPLDD           1            1\n",
      "29   FLQDIPDGLFL           1            1\n",
      "..           ...         ...          ...\n",
      "118  TLYTYPENWRA           1            1\n",
      "119  VLEGKELEFYL           1            1\n",
      "120  VLFDVTGQVRL           1            1\n",
      "121  VLFENTDSVHL           1            1\n",
      "122  VLFSSPPVILL           1            1\n",
      "123  VLLFEADTITL           1            1\n",
      "124  VLLSDSNLHDA           1            1\n",
      "125  VLMDFDALVQA           1            1\n",
      "126  VLPGVDALSNI           1            1\n",
      "127  VLYNEIEYAQA           1            1\n",
      "128  VMFEDGVLMRL           1            1\n",
      "129  VMQDPEFLQSV           1            1\n",
      "130  VQHEGLPKPLT           1            1\n",
      "131  VmQDPEFLQSV           1            1\n",
      "132  WGQGGGTHSQW           1            1\n",
      "133  WLIEDGKVVTV           1            1\n",
      "134  WLMEQGLGSYL           1            1\n",
      "135  YGGPHGGYHSH           1            1\n",
      "136  YILDYLRDLQL           1            1\n",
      "137  YLGLDGFVERI           1            1\n",
      "138  YLHDQNPDAAL           1            1\n",
      "139  YLIGIQGPDYV           1            1\n",
      "140  YLISQVEGHQV           1            1\n",
      "141  YLLDFVKPEFL           1            1\n",
      "142  YLWPAVQLANF           1            1\n",
      "143  YMGEEKLIASV           1            1\n",
      "144  YMIGSEVGNYL           1            1\n",
      "145  YQFDKVGILTL           1            1\n",
      "146  YQKWMEEQAQS           1            1\n",
      "147  YmIGSEVGNYL           1            1\n",
      "\n",
      "[148 rows x 3 columns]\n",
      "        Sequence  Occurrence  kf_test.csv\n",
      "0   ALADLDELLIRA           1            1\n",
      "1   ALFPHLLQPVLW           1            1\n",
      "2   ALLPVASRLLLL           1            1\n",
      "3   ALWDIETGQQTT           1            1\n",
      "4   ALWDIETGQQTV           1            1\n",
      "5   APSRNGmVLKPH           1            1\n",
      "6   AWNSQFEGPWNS           1            1\n",
      "7   EAFDLDPAQWGV           1            1\n",
      "8   FIMDDPAGNSYL           1            1\n",
      "9   FLADPDTVNHLL           1            1\n",
      "10  FLDELEDEAKAA           1            1\n",
      "11  FLFDKPVSPLLL           1            1\n",
      "12  FLIQDQQGLITL           1            1\n",
      "13  FLLDIEDRIYQG           1            1\n",
      "14  FLYDEIEAEVNL           1            1\n",
      "15  GLAPAEVVVATV           1            1\n",
      "16  GLGTGAIIAILL           1            1\n",
      "17  GLLGGALANLFV           1            1\n",
      "18  GSDQSENVDRGA           1            1\n",
      "19  HEEHDHGPEALH           1            1\n",
      "20  HGVHATKHVPEK           1            1\n",
      "21  HLWEVDVQGSKA           1            1\n",
      "22  HRSFVDLSGHNL           1            1\n",
      "23  HVNPLPTGYEDE           1            1\n",
      "24  HVQHEGLPKPLT           1            1\n",
      "25  ILVDLEPGTMDS           1            1\n",
      "26  IMWDPDRYGTTV           1            1\n",
      "27  ISWYDNEFGYSN           1            1\n",
      "28  IVTNWDDMEKIW           1            1\n",
      "29  KLIGDTPIDTFL           1            1\n",
      "..           ...         ...          ...\n",
      "38  LLQELEDLELGI           1            1\n",
      "39  LLWGYKDEILSL           1            1\n",
      "40  LVETRPAGDGTF           1            1\n",
      "41  MAKVLTPELYAE           1            1\n",
      "42  NLIDAGVDALRV           1            1\n",
      "43  NLLIDDKGTIKL           1            1\n",
      "44  PNQNKNVALLSQ           1            1\n",
      "45  PVVVPPFLQPEV           1            1\n",
      "46  RLLDLENSLLGL           1            1\n",
      "47  RLLEITEGSEFL           1            1\n",
      "48  RSSGPYGGGGQY           1            1\n",
      "49  RVLDPSMVILEV           1            1\n",
      "50  SILTIDDGIFEV           1            1\n",
      "51  SILTIEDGIFEV           1            1\n",
      "52  SLAELDEKISAL           1            1\n",
      "53  SLFEGTWYLVRV           1            1\n",
      "54  SLLGGDVVSVKL           1            1\n",
      "55  TLMEDVENSFFL           1            1\n",
      "56  VIYHEDDINYPH           1            1\n",
      "57  VLFAEAGPDFEL           1            1\n",
      "58  VLFDSESIGIYV           1            1\n",
      "59  VLFGLDPAVIKV           1            1\n",
      "60  VMFTEEDVKFYL           1            1\n",
      "61  YGQGAGALVHAQ           1            1\n",
      "62  YLIGLDPENLAL           1            1\n",
      "63  YLLGELGEALRM           1            1\n",
      "64  YLLGELGEALRm           1            1\n",
      "65  YLMDTSGKVVTA           1            1\n",
      "66  YLWDLDHGFAGV           1            1\n",
      "67  YWSHPRKFGQGS           1            1\n",
      "\n",
      "[68 rows x 3 columns]\n",
      "         Sequence  Occurrence  kf_test.csv\n",
      "0   AHGVHATKHVPEK           1            1\n",
      "1   ALLELEMNSDLKA           1            1\n",
      "2   ELIEEEVAKLLKL           1            1\n",
      "3   ELVETRPAGDGTF           1            1\n",
      "4   FLFDKPVSPLLLA           1            1\n",
      "5   FLIDLNSTHGTFL           1            1\n",
      "6   GLIDDNDLYRWEV           1            1\n",
      "7   GSDQSENVDRGAG           1            1\n",
      "8   HGAPAPPSGSAPH           1            1\n",
      "9   HMAKVLTPELYAE           1            1\n",
      "10  HVQHEGLPKPLTL           1            1\n",
      "11  IKAADGTYILNGD           1            1\n",
      "12  ILWAPDEESGVWL           1            1\n",
      "13  KLFDDDDSGKISL           1            1\n",
      "14  KLFQEDDEIPLYL           1            1\n",
      "15  KMISMDIEQVITL           1            1\n",
      "16  LHLQVLSTRNENK           1            1\n",
      "17  LLFGDIRQGIFYA           1            1\n",
      "18  LVETRPAGDGTFQ           1            1\n",
      "19  LVWDPEGEFIITV           1            1\n",
      "20  MGKEGVHGGLINK           1            1\n",
      "21  NKLLPKHPHLVRQ           1            1\n",
      "22  NSLPILKAGDEID           1            1\n",
      "23  NVALLSQLYHSPA           1            1\n",
      "24  PAHGGAPPEMASN           1            1\n",
      "25  PGVTVKDVNQQEF           1            1\n",
      "26  QKWAAVVVPSGQE           1            1\n",
      "27  RQYAKDIGFIKLD           1            1\n",
      "28  RSSGPYGGGGQYF           1            1\n",
      "29  RVVDLMAHMASKE           1            1\n",
      "30  SLMGLGDIISQQL           1            1\n",
      "31  TDAPSFSDIPNPI           1            1\n",
      "32  TLLNETDILSQYL           1            1\n",
      "33  TLMEINTSGTFLT           1            1\n",
      "34  TRNENKLLPKHPH           1            1\n",
      "35  TVEVDLFTSKGLF           1            1\n",
      "36  TVMDIDTSGTFNV           1            1\n",
      "37  VGSMVGVYNGKTF           1            1\n",
      "38  VILDPDTANAILL           1            1\n",
      "39  VLLEFVTAAGITL           1            1\n",
      "40  VLLEISRILNTGL           1            1\n",
      "41  VLLGESAVGKSSL           1            1\n",
      "42  VTFDIDANGILNV           1            1\n",
      "43  WAAVVVPSGQEQR           1            1\n",
      "44  YLDPALELGPRNV           1            1\n",
      "45  YVIEDDVNMAIRV           1            1\n",
      "          Sequence  Occurrence  kf_test.csv\n",
      "0   ALLELQEYFGSLAA           1            1\n",
      "1   FNDFEDLFDDDDIQ           1            1\n",
      "2   FRQYAKDIGFIKLD           1            1\n",
      "3   GKVKVGVNGFGRIG           1            1\n",
      "4   HQGGQFEQHFQHGG           1            1\n",
      "5   HRGHQPPPEMAGHS           1            1\n",
      "6   HVQHEGLPKPLTLR           1            1\n",
      "7   KYPDYEVTWANDGY           1            1\n",
      "8   LVETRPAGDGTFQK           1            1\n",
      "9   MHGGGPGGPGGGPH           1            1\n",
      "10  PLLRIFIQKKEEAD           1            1\n",
      "11  PPGAPHTEEEGAED           1            1\n",
      "12  PVTSAAKGIPGFGN           1            1\n",
      "13  QKWAAVVVPSGQEQ           1            1\n",
      "14  RIEEELGSKAKFAG           1            1\n",
      "15  SGSPTSYFTSGLQA           1            1\n",
      "16  SLADFEKALTDYRA           1            1\n",
      "17  SLYGGNAVVELVTV           1            1\n",
      "18  TELVETRPAGDGTF           1            1\n",
      "19  VNEGSDGGQSVYHV           1            1\n",
      "20  VSVQRTQAPAVATT           1            1\n",
      "21  WQQGQFWGQKPWSQ           1            1\n",
      "22  YATVHQSYPHHATQ           1            1\n",
      "23  YLQEVIDVLETDGH           1            1\n"
     ]
    }
   ],
   "source": [
    "# (folder path, output file path, name of the peptide sequence column)\n",
    "matched_dataframes_by_length = fileutils.aggregate_sequence_occurence_by_length(file_directory, sequence_column_name)"
   ]
  },
  {
   "cell_type": "markdown",
   "metadata": {},
   "source": [
    "we now have a python dictionary of sequence length -> pandas dataframe. we can look at the top of these frames with the below:"
   ]
  },
  {
   "cell_type": "code",
   "execution_count": 6,
   "metadata": {
    "collapsed": false
   },
   "outputs": [
    {
     "name": "stdout",
     "output_type": "stream",
     "text": [
      "   Sequence  Occurrence  kf_test.csv  kf_test_2.csv  kf_test_3.csv\n",
      "0  LMEHIHKL           3          1.0            1.0            1.0\n",
      "1  VYPFPGPI           2          1.0            1.0            0.0\n"
     ]
    }
   ],
   "source": [
    "print(matched_dataframes_by_length[8].head())"
   ]
  },
  {
   "cell_type": "code",
   "execution_count": 7,
   "metadata": {
    "collapsed": false
   },
   "outputs": [
    {
     "name": "stdout",
     "output_type": "stream",
     "text": [
      "       Sequence  Occurrence  kf_test.csv\n",
      "0  ALADLDELLIRA           1            1\n",
      "1  ALFPHLLQPVLW           1            1\n",
      "2  ALLPVASRLLLL           1            1\n",
      "3  ALWDIETGQQTT           1            1\n",
      "4  ALWDIETGQQTV           1            1\n"
     ]
    }
   ],
   "source": [
    "print(matched_dataframes_by_length[12].head())"
   ]
  },
  {
   "cell_type": "code",
   "execution_count": null,
   "metadata": {
    "collapsed": true
   },
   "outputs": [],
   "source": [
    "for sequence_length, matched_dataframe in matched_dataframes_by_length.items():\n",
    "    exportfile = os.path.join(output_path, \"sequence_length_{}_matched_csv_list\".format(sequence_length))\n",
    "    #fileutils.write_dataframe_to_csv(matched_dataframe, exportfile)"
   ]
  }
 ],
 "metadata": {
  "kernelspec": {
   "display_name": "Python 3",
   "language": "python",
   "name": "python3"
  },
  "language_info": {
   "codemirror_mode": {
    "name": "ipython",
    "version": 3
   },
   "file_extension": ".py",
   "mimetype": "text/x-python",
   "name": "python",
   "nbconvert_exporter": "python",
   "pygments_lexer": "ipython3",
   "version": "3.6.0"
  }
 },
 "nbformat": 4,
 "nbformat_minor": 2
}
