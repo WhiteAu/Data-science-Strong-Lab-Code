{
 "cells": [
  {
   "cell_type": "markdown",
   "metadata": {},
   "source": [
    "## The first thing we do is import the functions we want to use, as well as our default configuration file (called 'config' located in this same directory)"
   ]
  },
  {
   "cell_type": "code",
   "execution_count": null,
   "metadata": {
    "collapsed": false
   },
   "outputs": [],
   "source": [
    "import configparser\n",
    "\n",
    "from utilities.execution_modes import ExecutionType\n",
    "import utilities.fileutils as fileutils\n",
    "\n",
    "config = configparser.ConfigParser()\n",
    "configFilePath = 'config'\n",
    "config.read(configFilePath)\n"
   ]
  },
  {
   "cell_type": "markdown",
   "metadata": {},
   "source": [
    "## We set the input directory (where to read CSV files from) and the output directory (where we write our CSV output to)"
   ]
  },
  {
   "cell_type": "code",
   "execution_count": null,
   "metadata": {
    "collapsed": false
   },
   "outputs": [],
   "source": [
    "#input directory\n",
    "file_directory = config['DEFAULT']['input']\n",
    "#output directory\n",
    "output_path = config['DEFAULT']['output']\n",
    "\n",
    "print(\"input directory is: {}\\noutput directory is: {}\".format(file_directory, output_path))"
   ]
  },
  {
   "cell_type": "markdown",
   "metadata": {},
   "source": [
    "## We can set the name of the Protein Sequence Column and Protein Accession Group Columns below"
   ]
  },
  {
   "cell_type": "code",
   "execution_count": null,
   "metadata": {
    "collapsed": false
   },
   "outputs": [],
   "source": [
    "#name of the protein sequence column\n",
    "sequence_column_name = config[\"DATA DESCRIPTOR\"][\"sequenceColumn\"]\n",
    "#name of the protein group accessions column)\n",
    "add_column_name = config[\"DATA DESCRIPTOR\"][\"addColumn\"]\n",
    "\n",
    "print(\"sequence column name is : \\\"{}\\\"\".format(sequence_column_name))\n",
    "print(\"protein descriptor column name is : \\\"{}\\\"\".format(add_column_name))"
   ]
  },
  {
   "cell_type": "markdown",
   "metadata": {},
   "source": [
    "## we set the list of regular expressions we want to use below.\n",
    "## separate them by a comma and a newline for readability!"
   ]
  },
  {
   "cell_type": "code",
   "execution_count": null,
   "metadata": {
    "collapsed": true
   },
   "outputs": [],
   "source": [
    "#add more regular expressions to this!\n",
    "#pattern for HLA-A11 is r'\\b.[VIFY][MLFYIA]\\w+[LIYVF].[KR]\\b'\n",
    "#pattern for HLA-A24 is r'\\b.[YF]\\w+[LFI]\\b'\n",
    "regex_list = [r'^[FL]',\n",
    "              r'\\b.[VIFY][MLFYIA]\\w+[LIYVF].[KR]\\b'\n",
    "              ]"
   ]
  },
  {
   "cell_type": "code",
   "execution_count": null,
   "metadata": {
    "collapsed": false
   },
   "outputs": [],
   "source": [
    "all, some, none = fileutils.create_anchor_match_dataframes(regex_list,\n",
    "                                                             file_directory,\n",
    "                                                             sequence_column_name,\n",
    "                                                             add_column_name)\n",
    "print(\"returned dataframes were: all{}\\nsome {}\\nnone {}\".format(all, some, none))\n"
   ]
  },
  {
   "cell_type": "code",
   "execution_count": null,
   "metadata": {
    "collapsed": true
   },
   "outputs": [],
   "source": [
    "    print(\"writing output to {}\".format(output_path))\n",
    "    fileutils.write_dataframe_to_csv_with_path(all, output_path, \"sieved_compilation_problem_2_all\")\n",
    "    fileutils.write_dataframe_to_csv_with_path(some, output_path, \"sieved_compilation_problem_2_some\")\n",
    "    fileutils.write_dataframe_to_csv_with_path(none, output_path, \"sieved_compilation_problem_2_none\")"
   ]
  }
 ],
 "metadata": {
  "kernelspec": {
   "display_name": "Python 3",
   "language": "python",
   "name": "python3"
  },
  "language_info": {
   "codemirror_mode": {
    "name": "ipython",
    "version": 3
   },
   "file_extension": ".py",
   "mimetype": "text/x-python",
   "name": "python",
   "nbconvert_exporter": "python",
   "pygments_lexer": "ipython3",
   "version": "3.6.0"
  }
 },
 "nbformat": 4,
 "nbformat_minor": 0
}
