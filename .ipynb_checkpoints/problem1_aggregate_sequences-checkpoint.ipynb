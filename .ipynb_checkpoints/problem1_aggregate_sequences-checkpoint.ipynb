{
 "cells": [
  {
   "cell_type": "code",
   "execution_count": null,
   "metadata": {
    "collapsed": true
   },
   "outputs": [],
   "source": [
    "import configparser\n",
    "import logging\n",
    "import os\n",
    "\n",
    "from utilities.execution_modes import ExecutionType\n",
    "import utilities.fileutils as fileutils"
   ]
  },
  {
   "cell_type": "code",
   "execution_count": null,
   "metadata": {
    "collapsed": false
   },
   "outputs": [],
   "source": [
    "config = configparser.ConfigParser()\n",
    "configFilePath = 'config'\n",
    "config.read(configFilePath)\n"
   ]
  },
  {
   "cell_type": "markdown",
   "metadata": {},
   "source": [
    "# We are setting the below to read a default directory from the config file located in the same dir as this jupyter notebook\n",
    "# If you want to change that directory, you can either change the assignment like the commented out code below, or change the directory in the config file\n"
   ]
  },
  {
   "cell_type": "code",
   "execution_count": null,
   "metadata": {
    "collapsed": false
   },
   "outputs": [],
   "source": [
    "#input directory\n",
    "file_directory = config['DEFAULT']['input']\n",
    "#output directory\n",
    "output_path = config['DEFAULT']['output']\n",
    "\n",
    "print(\"input directory is: {}\\noutput directory is: {}\".format(file_directory, output_path))"
   ]
  },
  {
   "cell_type": "markdown",
   "metadata": {},
   "source": [
    "# We are setting the below to set what the 'Sequence' column is, as well as what the "
   ]
  },
  {
   "cell_type": "code",
   "execution_count": null,
   "metadata": {
    "collapsed": false
   },
   "outputs": [],
   "source": [
    "sequence_column_name = config[\"DATA DESCRIPTOR\"][\"sequenceColumn\"]\n",
    "\n",
    "print(\"sequence column name is : \\\"{}\\\"\".format(sequence_column_name))"
   ]
  },
  {
   "cell_type": "markdown",
   "metadata": {},
   "source": []
  },
  {
   "cell_type": "code",
   "execution_count": null,
   "metadata": {
    "collapsed": false
   },
   "outputs": [],
   "source": [
    "# (folder path, output file path, name of the peptide sequence column)\n",
    "matched_dataframes_by_length = fileutils.aggregate_sequence_occurence_by_length(file_directory, sequence_column_name)"
   ]
  },
  {
   "cell_type": "markdown",
   "metadata": {},
   "source": [
    "## we now have a python dictionary of sequence length -> pandas dataframe. we can look at the top of these frames with the below:"
   ]
  },
  {
   "cell_type": "code",
   "execution_count": null,
   "metadata": {
    "collapsed": false
   },
   "outputs": [],
   "source": [
    "print(matched_dataframes_by_length[8].head())"
   ]
  },
  {
   "cell_type": "code",
   "execution_count": null,
   "metadata": {
    "collapsed": false
   },
   "outputs": [],
   "source": [
    "print(matched_dataframes_by_length[12].head())"
   ]
  },
  {
   "cell_type": "code",
   "execution_count": null,
   "metadata": {
    "collapsed": true
   },
   "outputs": [],
   "source": [
    "for sequence_length, matched_dataframe in matched_dataframes_by_length.items():\n",
    "    exportfile = os.path.join(output_path, \"sequence_length_{}_matched_csv_list\".format(sequence_length))\n",
    "    #fileutils.write_dataframe_to_csv(matched_dataframe, exportfile)"
   ]
  }
 ],
 "metadata": {
  "kernelspec": {
   "display_name": "Python 3",
   "language": "python",
   "name": "python3"
  },
  "language_info": {
   "codemirror_mode": {
    "name": "ipython",
    "version": 3
   },
   "file_extension": ".py",
   "mimetype": "text/x-python",
   "name": "python",
   "nbconvert_exporter": "python",
   "pygments_lexer": "ipython3",
   "version": "3.6.0"
  }
 },
 "nbformat": 4,
 "nbformat_minor": 2
}
